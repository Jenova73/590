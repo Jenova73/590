{
  "nbformat": 4,
  "nbformat_minor": 0,
  "metadata": {
    "accelerator": "TPU",
    "colab": {
      "name": "Copy_of_keras_lab.ipynb",
      "provenance": []
    },
    "kernelspec": {
      "display_name": "Python 3",
      "language": "python",
      "name": "python3"
    },
    "language_info": {
      "codemirror_mode": {
        "name": "ipython",
        "version": 3
      },
      "file_extension": ".py",
      "mimetype": "text/x-python",
      "name": "python",
      "nbconvert_exporter": "python",
      "pygments_lexer": "ipython3",
      "version": "3.7.4"
    },
    "widgets": {
      "application/vnd.jupyter.widget-state+json": {
        "c9927abc5bd04b75a7d3c027f128328f": {
          "model_module": "@jupyter-widgets/controls",
          "model_name": "HBoxModel",
          "state": {
            "_view_name": "HBoxView",
            "_dom_classes": [],
            "_model_name": "HBoxModel",
            "_view_module": "@jupyter-widgets/controls",
            "_model_module_version": "1.5.0",
            "_view_count": null,
            "_view_module_version": "1.5.0",
            "box_style": "",
            "layout": "IPY_MODEL_de5df938c8db44618ab6a52f7ca8362a",
            "_model_module": "@jupyter-widgets/controls",
            "children": [
              "IPY_MODEL_e015b0dc3c854aa397901dec161d8b5b",
              "IPY_MODEL_1294b1b03e614c30afb5d261baffd8e2"
            ]
          }
        },
        "de5df938c8db44618ab6a52f7ca8362a": {
          "model_module": "@jupyter-widgets/base",
          "model_name": "LayoutModel",
          "state": {
            "_view_name": "LayoutView",
            "grid_template_rows": null,
            "right": null,
            "justify_content": null,
            "_view_module": "@jupyter-widgets/base",
            "overflow": null,
            "_model_module_version": "1.2.0",
            "_view_count": null,
            "flex_flow": null,
            "width": null,
            "min_width": null,
            "border": null,
            "align_items": null,
            "bottom": null,
            "_model_module": "@jupyter-widgets/base",
            "top": null,
            "grid_column": null,
            "overflow_y": null,
            "overflow_x": null,
            "grid_auto_flow": null,
            "grid_area": null,
            "grid_template_columns": null,
            "flex": null,
            "_model_name": "LayoutModel",
            "justify_items": null,
            "grid_row": null,
            "max_height": null,
            "align_content": null,
            "visibility": null,
            "align_self": null,
            "height": null,
            "min_height": null,
            "padding": null,
            "grid_auto_rows": null,
            "grid_gap": null,
            "max_width": null,
            "order": null,
            "_view_module_version": "1.2.0",
            "grid_template_areas": null,
            "object_position": null,
            "object_fit": null,
            "grid_auto_columns": null,
            "margin": null,
            "display": null,
            "left": null
          }
        },
        "e015b0dc3c854aa397901dec161d8b5b": {
          "model_module": "@jupyter-widgets/controls",
          "model_name": "FloatProgressModel",
          "state": {
            "_view_name": "ProgressView",
            "style": "IPY_MODEL_23970882c3e1419996cb77c39c55a5eb",
            "_dom_classes": [],
            "description": "Dl Completed...: 100%",
            "_model_name": "FloatProgressModel",
            "bar_style": "success",
            "max": 4,
            "_view_module": "@jupyter-widgets/controls",
            "_model_module_version": "1.5.0",
            "value": 4,
            "_view_count": null,
            "_view_module_version": "1.5.0",
            "orientation": "horizontal",
            "min": 0,
            "description_tooltip": null,
            "_model_module": "@jupyter-widgets/controls",
            "layout": "IPY_MODEL_c079b997e6fc43a6923e52f2572e5f20"
          }
        },
        "1294b1b03e614c30afb5d261baffd8e2": {
          "model_module": "@jupyter-widgets/controls",
          "model_name": "HTMLModel",
          "state": {
            "_view_name": "HTMLView",
            "style": "IPY_MODEL_124f6ec2fe8a4b91b04c0d41c8ac82dc",
            "_dom_classes": [],
            "description": "",
            "_model_name": "HTMLModel",
            "placeholder": "​",
            "_view_module": "@jupyter-widgets/controls",
            "_model_module_version": "1.5.0",
            "value": " 4/4 [00:00&lt;00:00,  5.14 file/s]",
            "_view_count": null,
            "_view_module_version": "1.5.0",
            "description_tooltip": null,
            "_model_module": "@jupyter-widgets/controls",
            "layout": "IPY_MODEL_63b83aca598d45d898372026363bc794"
          }
        },
        "23970882c3e1419996cb77c39c55a5eb": {
          "model_module": "@jupyter-widgets/controls",
          "model_name": "ProgressStyleModel",
          "state": {
            "_view_name": "StyleView",
            "_model_name": "ProgressStyleModel",
            "description_width": "initial",
            "_view_module": "@jupyter-widgets/base",
            "_model_module_version": "1.5.0",
            "_view_count": null,
            "_view_module_version": "1.2.0",
            "bar_color": null,
            "_model_module": "@jupyter-widgets/controls"
          }
        },
        "c079b997e6fc43a6923e52f2572e5f20": {
          "model_module": "@jupyter-widgets/base",
          "model_name": "LayoutModel",
          "state": {
            "_view_name": "LayoutView",
            "grid_template_rows": null,
            "right": null,
            "justify_content": null,
            "_view_module": "@jupyter-widgets/base",
            "overflow": null,
            "_model_module_version": "1.2.0",
            "_view_count": null,
            "flex_flow": null,
            "width": null,
            "min_width": null,
            "border": null,
            "align_items": null,
            "bottom": null,
            "_model_module": "@jupyter-widgets/base",
            "top": null,
            "grid_column": null,
            "overflow_y": null,
            "overflow_x": null,
            "grid_auto_flow": null,
            "grid_area": null,
            "grid_template_columns": null,
            "flex": null,
            "_model_name": "LayoutModel",
            "justify_items": null,
            "grid_row": null,
            "max_height": null,
            "align_content": null,
            "visibility": null,
            "align_self": null,
            "height": null,
            "min_height": null,
            "padding": null,
            "grid_auto_rows": null,
            "grid_gap": null,
            "max_width": null,
            "order": null,
            "_view_module_version": "1.2.0",
            "grid_template_areas": null,
            "object_position": null,
            "object_fit": null,
            "grid_auto_columns": null,
            "margin": null,
            "display": null,
            "left": null
          }
        },
        "124f6ec2fe8a4b91b04c0d41c8ac82dc": {
          "model_module": "@jupyter-widgets/controls",
          "model_name": "DescriptionStyleModel",
          "state": {
            "_view_name": "StyleView",
            "_model_name": "DescriptionStyleModel",
            "description_width": "",
            "_view_module": "@jupyter-widgets/base",
            "_model_module_version": "1.5.0",
            "_view_count": null,
            "_view_module_version": "1.2.0",
            "_model_module": "@jupyter-widgets/controls"
          }
        },
        "63b83aca598d45d898372026363bc794": {
          "model_module": "@jupyter-widgets/base",
          "model_name": "LayoutModel",
          "state": {
            "_view_name": "LayoutView",
            "grid_template_rows": null,
            "right": null,
            "justify_content": null,
            "_view_module": "@jupyter-widgets/base",
            "overflow": null,
            "_model_module_version": "1.2.0",
            "_view_count": null,
            "flex_flow": null,
            "width": null,
            "min_width": null,
            "border": null,
            "align_items": null,
            "bottom": null,
            "_model_module": "@jupyter-widgets/base",
            "top": null,
            "grid_column": null,
            "overflow_y": null,
            "overflow_x": null,
            "grid_auto_flow": null,
            "grid_area": null,
            "grid_template_columns": null,
            "flex": null,
            "_model_name": "LayoutModel",
            "justify_items": null,
            "grid_row": null,
            "max_height": null,
            "align_content": null,
            "visibility": null,
            "align_self": null,
            "height": null,
            "min_height": null,
            "padding": null,
            "grid_auto_rows": null,
            "grid_gap": null,
            "max_width": null,
            "order": null,
            "_view_module_version": "1.2.0",
            "grid_template_areas": null,
            "object_position": null,
            "object_fit": null,
            "grid_auto_columns": null,
            "margin": null,
            "display": null,
            "left": null
          }
        }
      }
    }
  },
  "cells": [
    {
      "cell_type": "code",
      "metadata": {
        "id": "jS47B8K0JLkx"
      },
      "source": [
        "import tensorflow as tf\n",
        "import tensorflow.keras as tfk\n",
        "import tensorflow.keras.layers as tfkl\n",
        "import numpy as np\n",
        "import matplotlib.pyplot as plt"
      ],
      "execution_count": null,
      "outputs": []
    },
    {
      "cell_type": "markdown",
      "metadata": {
        "id": "iehoGWa6SSWU"
      },
      "source": [
        "### regression\n",
        "\n",
        "Let's start by using `keras` to make a neural network for a simple regression task where both the input and the output as 1-dimensional. Below is some code that will produce the dataset for you to train on.\n",
        "\n",
        "Here are some general steps to follow:\n",
        "1. Define your model by passing `tfk.Sequential` a list of layers (found in `tf.keras.layers`, which is already imported for you by the shorter name `tfkl`, since you will use this module many times.\n",
        "2. Your first layers should be a `tfkl.Input` layer that specifies the shape of the input (it will automatically include an empty first dimension with size `None` as a placehold for the batch size).\n",
        "3. The rest of your layers should be `tfkl.Dense` layers; you will be to specify the number of neurons/units as well as the activation function (you can find those in `tf.nn`, and you can use `None` for a \"linear\" activation function, $f(x)=x$). Make sure you pick an output function that makes sense for this prediction task!\n",
        "4. Choose an appropriate optimizer from `tfk.optimizers` and an appropriate loss function from `tfk.losses` (both are classes that wil need to be initialized), and then pass them to `model.compile` to compile your model.\n",
        "5. Call `model.fit` to fit your model and collect the results\n",
        "6. Plot your training curve (loss vs training step)\n",
        "7. Call your model (`model(...)`) on a grid of inputs (code to make the grid provided) and plot the relationship your model learned against the true relationship (defined as `f` in the code below)."
      ]
    },
    {
      "cell_type": "code",
      "metadata": {
        "id": "HDgsWoAKJbxz",
        "outputId": "16922e63-1189-4749-f268-5e0ca0c3babd",
        "colab": {
          "base_uri": "https://localhost:8080/",
          "height": 265
        }
      },
      "source": [
        "def regression_data(N):\n",
        "  x = np.random.uniform(low=-5.0, high=5.0, size=(N, 1)).astype(np.float32)\n",
        "  e = 0.2 * np.random.normal(size=(N, 1)).astype(np.float32)\n",
        "  f = lambda x: 0.2 * x**2 * np.sin(2 * np.pi * x / 6)\n",
        "  y = f(x) + e\n",
        "  return x, y\n",
        "\n",
        "N = 100\n",
        "x_train, y_train = regression_data(N)\n",
        "x_test, y_test = regression_data(N)\n",
        "\n",
        "plt.scatter(x_train, y_train, s=10)\n",
        "plt.scatter(x_test, y_test, s=10)\n",
        "plt.show()"
      ],
      "execution_count": null,
      "outputs": [
        {
          "output_type": "display_data",
          "data": {
            "image/png": "[encoded data removed]",
            "text/plain": [
              "<Figure size 432x288 with 1 Axes>"
            ]
          },
          "metadata": {
            "tags": [],
            "needs_background": "light"
          }
        }
      ]
    },
    {
      "cell_type": "code",
      "metadata": {
        "id": "vBzgG7E0KmFR",
        "outputId": "2fd26456-f72c-44cb-b671-f1a0b8ef587c",
        "colab": {
          "base_uri": "https://localhost:8080/",
          "height": 665
        }
      },
      "source": [
        "a=tf.nn.relu\n",
        "model = tfk.Sequential([\n",
        "                       tfkl.Input((1,)),\n",
        "                       tfkl.Dense(100,activation=a),\n",
        "                       tfkl.Dense(20,activation=a),\n",
        "                       tfkl.Dense(1,activation = None)])\n",
        "model.summary()\n",
        "\n",
        "cbs = [tfk.callbacks.EarlyStopping(min_delta=0.01,patience =2)]\n",
        "ds_train = tf.data.Dataset.from_tensor_slices((x_train,y_train)).batch(16).repeat().prefetch(5)\n",
        "ds_test = tf.data.Dataset.from_tensor_slices((x_test,y_test)).batch(16).repeat().prefetch(5)\n",
        "\n",
        "\n",
        "loss = tfk.losses.MeanSquaredError()\n",
        "opt = tfk.optimizers.Adam()\n",
        "model.compile(opt,loss)\n",
        "\n",
        "result=model.fit(ds_train,steps_per_epoch=100, epochs=10000,\n",
        "                 callbacks=cbs, validation_data=ds_test, validation_steps=1)"
      ],
      "execution_count": null,
      "outputs": [
        {
          "output_type": "stream",
          "text": [
            "Model: \"sequential_1\"\n",
            "_________________________________________________________________\n",
            "Layer (type)                 Output Shape              Param #   \n",
            "=================================================================\n",
            "dense_3 (Dense)              (None, 100)               200       \n",
            "_________________________________________________________________\n",
            "dense_4 (Dense)              (None, 20)                2020      \n",
            "_________________________________________________________________\n",
            "dense_5 (Dense)              (None, 1)                 21        \n",
            "=================================================================\n",
            "Total params: 2,241\n",
            "Trainable params: 2,241\n",
            "Non-trainable params: 0\n",
            "_________________________________________________________________\n",
            "Epoch 1/10000\n",
            "100/100 [==============================] - 0s 2ms/step - loss: 1.9271 - val_loss: 1.2940\n",
            "Epoch 2/10000\n",
            "100/100 [==============================] - 0s 1ms/step - loss: 1.5877 - val_loss: 1.1355\n",
            "Epoch 3/10000\n",
            "100/100 [==============================] - 0s 1ms/step - loss: 1.3547 - val_loss: 0.9183\n",
            "Epoch 4/10000\n",
            "100/100 [==============================] - 0s 1ms/step - loss: 1.0191 - val_loss: 0.6427\n",
            "Epoch 5/10000\n",
            "100/100 [==============================] - 0s 1ms/step - loss: 0.6392 - val_loss: 0.3824\n",
            "Epoch 6/10000\n",
            "100/100 [==============================] - 0s 1ms/step - loss: 0.3412 - val_loss: 0.2014\n",
            "Epoch 7/10000\n",
            "100/100 [==============================] - 0s 1ms/step - loss: 0.1814 - val_loss: 0.1148\n",
            "Epoch 8/10000\n",
            "100/100 [==============================] - 0s 1ms/step - loss: 0.1091 - val_loss: 0.0738\n",
            "Epoch 9/10000\n",
            "100/100 [==============================] - 0s 2ms/step - loss: 0.0806 - val_loss: 0.0583\n",
            "Epoch 10/10000\n",
            "100/100 [==============================] - 0s 2ms/step - loss: 0.0673 - val_loss: 0.0513\n",
            "Epoch 11/10000\n",
            "100/100 [==============================] - 0s 2ms/step - loss: 0.0611 - val_loss: 0.0487\n"
          ],
          "name": "stdout"
        }
      ]
    },
    {
      "cell_type": "code",
      "metadata": {
        "id": "KDJF6DaXOCWR",
        "outputId": "1064fe46-c766-4650-fc53-d22b3d14dbad",
        "colab": {
          "base_uri": "https://localhost:8080/",
          "height": 285
        }
      },
      "source": [
        "plt.plot(result.history['loss'])\n",
        "plt.plot(result.history['val_loss'])"
      ],
      "execution_count": null,
      "outputs": [
        {
          "output_type": "execute_result",
          "data": {
            "text/plain": [
              "[<matplotlib.lines.Line2D at 0x7f9b7e523d68>]"
            ]
          },
          "metadata": {
            "tags": []
          },
          "execution_count": 8
        },
        {
          "output_type": "display_data",
          "data": {
            "image/png": "[encoded data removed]",
            "text/plain": [
              "<Figure size 432x288 with 1 Axes>"
            ]
          },
          "metadata": {
            "tags": [],
            "needs_background": "light"
          }
        }
      ]
    },
    {
      "cell_type": "code",
      "metadata": {
        "id": "pULO0BniMAL2",
        "outputId": "812e48b0-bfdf-456f-f5fc-6ca9bdbf18fc",
        "colab": {
          "base_uri": "https://localhost:8080/",
          "height": 265
        }
      },
      "source": [
        "\n",
        "f = lambda x: 0.2 * x**2 * np.sin(2 * np.pi * x / 6)\n",
        "x_grid = np.linspace(x_train.min(), x_train.max(), 200).astype(np.float32)[:, np.newaxis]\n",
        "y_true = f(x_grid)\n",
        "y_hat = model(x_grid)\n",
        "\n",
        "plt.scatter(x_train,y_train,s=10)\n",
        "plt.plot([],[])\n",
        "plt.plot(x_grid,y_true,label='true')\n",
        "plt.plot(x_grid,y_hat,label='predicted')\n",
        "plt.legend()\n",
        "plt.show()\n",
        "\n"
      ],
      "execution_count": null,
      "outputs": [
        {
          "output_type": "display_data",
          "data": {
            "image/png": "[encoded data removed]",
            "text/plain": [
              "<Figure size 432x288 with 1 Axes>"
            ]
          },
          "metadata": {
            "tags": [],
            "needs_background": "light"
          }
        }
      ]
    },
    {
      "cell_type": "markdown",
      "metadata": {
        "id": "Dc59MczHVrc9"
      },
      "source": [
        "### binary classification\n",
        "\n",
        "Here is another dataset that differs in two key ways from the regression example we just worked:\n",
        "1. The input is now 2-dimensional\n",
        "2. The targets are now binary classes\n",
        "\n",
        "Update your model to handle both of these changes and try fitting this new data. Think about the following:\n",
        "- input shape\n",
        "- output function\n",
        "- loss function\n",
        "\n",
        "Since visualizing the results is a bit tricky, we have provided some code for that."
      ]
    },
    {
      "cell_type": "code",
      "metadata": {
        "id": "VVnobKMJOCWY"
      },
      "source": [
        "from keras.models import Sequential\n",
        "from keras.layers import Dense"
      ],
      "execution_count": null,
      "outputs": []
    },
    {
      "cell_type": "code",
      "metadata": {
        "id": "NMg8n9NRGo_9",
        "outputId": "c4619ed8-1755-4a75-d148-2793ada8c858",
        "colab": {
          "base_uri": "https://localhost:8080/",
          "height": 428
        }
      },
      "source": [
        "N = 200\n",
        "def binary_classification_data(N):\n",
        "  x = np.random.uniform(low=-5, high=5, size=(N, 2))\n",
        "  y = (x[:, 0] * x[:, 1] > 0).astype(np.int)\n",
        "  return x, y\n",
        "\n",
        "x_train, y_train = binary_classification_data(N)\n",
        "x_test, y_test = binary_classification_data(N)\n",
        "\n",
        "plt.figure(figsize=(7, 7))\n",
        "plt.scatter(x_train[:, 0], x_train[:, 1], s=10, c=y_train, cmap='coolwarm')\n",
        "plt.show()"
      ],
      "execution_count": null,
      "outputs": [
        {
          "output_type": "display_data",
          "data": {
            "image/png": "[encoded data removed]",
            "text/plain": [
              "<Figure size 504x504 with 1 Axes>"
            ]
          },
          "metadata": {
            "tags": [],
            "needs_background": "light"
          }
        }
      ]
    },
    {
      "cell_type": "code",
      "metadata": {
        "id": "4uSwfVzROIVl",
        "outputId": "87cc18b1-b3fa-4420-f4c7-fad2d5ae716d",
        "colab": {
          "base_uri": "https://localhost:8080/",
          "height": 233
        }
      },
      "source": [
        "a = tf.nn.softplus\n",
        "\n",
        "model = tfk.Sequential([\n",
        "                    tfkl.Input((2,)),\n",
        "                    tfkl.Dense(100,activation=a),\n",
        "                    tfkl.Dense(20,activation=a),\n",
        "                    tfkl.Dense(1,activation=tf.nn.sigmoid)\n",
        "])\n",
        "\n",
        "model.summary\n",
        "\n",
        "model.compile(optimizer = tfk.optimizers.Adam(),loss=tfk.losses.BinaryCrossentropy())\n",
        "cbs = [tfk.callbacks.EarlyStopping(min_delta=0.01,patience =2)]\n",
        "ds_train = tf.data.Dataset.from_tensor_slices((x_train,y_train)).batch(16).repeat().prefetch(10)\n",
        "ds_test = tf.data.Dataset.from_tensor_slices((x_test,y_test)).batch(16).repeat().prefetch(10)\n",
        "\n",
        "result=model.fit(ds_train,steps_per_epoch=100, epochs=10000,\n",
        "                 callbacks=cbs, validation_data=ds_test, validation_steps=1)"
      ],
      "execution_count": null,
      "outputs": [
        {
          "output_type": "stream",
          "text": [
            "Epoch 1/10000\n",
            "100/100 [==============================] - 0s 2ms/step - loss: 0.6210 - val_loss: 0.5167\n",
            "Epoch 2/10000\n",
            "100/100 [==============================] - 0s 1ms/step - loss: 0.4055 - val_loss: 0.2509\n",
            "Epoch 3/10000\n",
            "100/100 [==============================] - 0s 2ms/step - loss: 0.2337 - val_loss: 0.1587\n",
            "Epoch 4/10000\n",
            "100/100 [==============================] - 0s 1ms/step - loss: 0.1596 - val_loss: 0.1098\n",
            "Epoch 5/10000\n",
            "100/100 [==============================] - 0s 1ms/step - loss: 0.1241 - val_loss: 0.0999\n",
            "Epoch 6/10000\n",
            "100/100 [==============================] - 0s 1ms/step - loss: 0.1029 - val_loss: 0.1016\n"
          ],
          "name": "stdout"
        }
      ]
    },
    {
      "cell_type": "code",
      "metadata": {
        "id": "5ZUclc8PKqEC",
        "outputId": "e3affeba-da7e-4acc-eaa1-53edc4e0485b",
        "colab": {
          "base_uri": "https://localhost:8080/",
          "height": 269
        }
      },
      "source": [
        "def binary_preds(model, x_minmax=5):\n",
        "  x_grid = np.linspace(-x_minmax, x_minmax, 100)\n",
        "  mesh = np.meshgrid(x_grid, x_grid)\n",
        "  xs_grid = np.stack(mesh, axis=-1)\n",
        "  yhat = model(xs_grid).numpy().squeeze()\n",
        "\n",
        "\n",
        "  plt.imshow(yhat, cmap='coolwarm')\n",
        "  plt.colorbar()\n",
        "\n",
        "binary_preds(model)"
      ],
      "execution_count": null,
      "outputs": [
        {
          "output_type": "display_data",
          "data": {
            "image/png": "[encoded data removed]",
            "text/plain": [
              "<Figure size 432x288 with 2 Axes>"
            ]
          },
          "metadata": {
            "tags": [],
            "needs_background": "light"
          }
        }
      ]
    },
    {
      "cell_type": "markdown",
      "metadata": {
        "id": "f6NPT8dsWWXW"
      },
      "source": [
        "### general classfication\n",
        "\n",
        "Finally we will download and train on some real data to learn about general classification. Here is some code that will download and show some metadata about the MNIST dataset -- a collectin of handwritten digits.\n",
        "\n",
        "Update your model to work on this data so that you model can predict the digit from its image. One new thing to keep in mind: these inputs are 2D. Later in the course we will learn about convolutional neural nets for handing such inputs more naturally, but for now, update your `tfkl.Input` layer to be 2-dimensional and then add a `tfkl.Flatten()` layer right after it to unravel the 2-d image into a 1-d vector of pixels.\n",
        "\n",
        "Again, visualalizing the output is a bit tricky, so we have provided some code to help."
      ]
    },
    {
      "cell_type": "code",
      "metadata": {
        "id": "TQl7DZmBNvm_",
        "outputId": "57500de6-91bf-4cb9-f768-7ee495b5e8ef",
        "colab": {
          "base_uri": "https://localhost:8080/",
          "height": 661,
          "referenced_widgets": [
            "c9927abc5bd04b75a7d3c027f128328f",
            "de5df938c8db44618ab6a52f7ca8362a",
            "e015b0dc3c854aa397901dec161d8b5b",
            "1294b1b03e614c30afb5d261baffd8e2",
            "23970882c3e1419996cb77c39c55a5eb",
            "c079b997e6fc43a6923e52f2572e5f20",
            "124f6ec2fe8a4b91b04c0d41c8ac82dc",
            "63b83aca598d45d898372026363bc794"
          ]
        }
      },
      "source": [
        "import tensorflow_datasets as tfds\n",
        "\n",
        "ds, metadata = tfds.load('mnist', with_info=True)\n",
        "print(metadata)"
      ],
      "execution_count": null,
      "outputs": [
        {
          "output_type": "stream",
          "text": [
            "WARNING:absl:Dataset mnist is hosted on GCS. It will automatically be downloaded to your\n",
            "local data directory. If you'd instead prefer to read directly from our public\n",
            "GCS bucket (recommended if you're running on GCP), you can instead set\n",
            "data_dir=gs://tfds-data/datasets.\n",
            "\n"
          ],
          "name": "stderr"
        },
        {
          "output_type": "stream",
          "text": [
            "\u001b[1mDownloading and preparing dataset mnist/3.0.0 (download: 11.06 MiB, generated: Unknown size, total: 11.06 MiB) to /root/tensorflow_datasets/mnist/3.0.0...\u001b[0m\n"
          ],
          "name": "stdout"
        },
        {
          "output_type": "display_data",
          "data": {
            "application/vnd.jupyter.widget-view+json": {
              "model_id": "c9927abc5bd04b75a7d3c027f128328f",
              "version_minor": 0,
              "version_major": 2
            },
            "text/plain": [
              "HBox(children=(FloatProgress(value=0.0, description='Dl Completed...', max=4.0, style=ProgressStyle(descriptio…"
            ]
          },
          "metadata": {
            "tags": []
          }
        },
        {
          "output_type": "stream",
          "text": [
            "\n",
            "\n",
            "\u001b[1mDataset mnist downloaded and prepared to /root/tensorflow_datasets/mnist/3.0.0. Subsequent calls will reuse this data.\u001b[0m\n",
            "tfds.core.DatasetInfo(\n",
            "    name='mnist',\n",
            "    version=3.0.0,\n",
            "    description='The MNIST database of handwritten digits.',\n",
            "    homepage='http://yann.lecun.com/exdb/mnist/',\n",
            "    features=FeaturesDict({\n",
            "        'image': Image(shape=(28, 28, 1), dtype=tf.uint8),\n",
            "        'label': ClassLabel(shape=(), dtype=tf.int64, num_classes=10),\n",
            "    }),\n",
            "    total_num_examples=70000,\n",
            "    splits={\n",
            "        'test': 10000,\n",
            "        'train': 60000,\n",
            "    },\n",
            "    supervised_keys=('image', 'label'),\n",
            "    citation=\"\"\"@article{lecun2010mnist,\n",
            "      title={MNIST handwritten digit database},\n",
            "      author={LeCun, Yann and Cortes, Corinna and Burges, CJ},\n",
            "      journal={ATT Labs [Online]. Available: http://yann. lecun. com/exdb/mnist},\n",
            "      volume={2},\n",
            "      year={2010}\n",
            "    }\"\"\",\n",
            "    redistribution_info=,\n",
            ")\n",
            "\n"
          ],
          "name": "stdout"
        }
      ]
    },
    {
      "cell_type": "code",
      "metadata": {
        "id": "bKre0z2HOCDm",
        "outputId": "5c745e70-b9ea-45d1-95bf-9e7f94560391",
        "colab": {
          "base_uri": "https://localhost:8080/",
          "height": 521
        }
      },
      "source": [
        "a=tf.nn.softplus\n",
        "model=tfk.Sequential([\n",
        "    tfkl.Input((28,28,1,)),\n",
        "    tfkl.Flatten(),\n",
        "    tfkl.Dense(100,activation=a),\n",
        "    tfkl.Dense(20,activation=a),\n",
        "    tfkl.Dense(10,activation=tf.nn.softmax)\n",
        "])\n",
        "model.summary()\n",
        "cbs=[tfk.callbacks.EarlyStopping(min_delta=0.01, patience=1)]\n",
        "\n",
        "preprocess = lambda d: (tf.cast(d['image'], tf.float32)/255., d['label'])\n",
        "ds_train =ds['train'].map(preprocess).cache().batch(32).repeat().prefetch(10)\n",
        "ds_test =ds['test'].take(1000).map(preprocess).batch(1000).repeat().prefetch(10)\n",
        "\n",
        "loss=tfk.losses.SparseCategoricalCrossentropy() \n",
        "opt=tfk.optimizers.Adam()\n",
        "\n",
        "model.compile(opt,loss)\n",
        "\n",
        "result=model.fit(ds_train,validation_data = ds_test,\n",
        "                 validation_steps = 1, steps_per_epoch=100, epochs=1000, callbacks=cbs)"
      ],
      "execution_count": null,
      "outputs": [
        {
          "output_type": "stream",
          "text": [
            "Model: \"sequential_3\"\n",
            "_________________________________________________________________\n",
            "Layer (type)                 Output Shape              Param #   \n",
            "=================================================================\n",
            "flatten (Flatten)            (None, 784)               0         \n",
            "_________________________________________________________________\n",
            "dense_9 (Dense)              (None, 100)               78500     \n",
            "_________________________________________________________________\n",
            "dense_10 (Dense)             (None, 20)                2020      \n",
            "_________________________________________________________________\n",
            "dense_11 (Dense)             (None, 10)                210       \n",
            "=================================================================\n",
            "Total params: 80,730\n",
            "Trainable params: 80,730\n",
            "Non-trainable params: 0\n",
            "_________________________________________________________________\n",
            "Epoch 1/1000\n",
            "100/100 [==============================] - 1s 11ms/step - loss: 1.3430 - val_loss: 0.5799\n",
            "Epoch 2/1000\n",
            "100/100 [==============================] - 1s 9ms/step - loss: 0.5049 - val_loss: 0.3699\n",
            "Epoch 3/1000\n",
            "100/100 [==============================] - 1s 9ms/step - loss: 0.4056 - val_loss: 0.3351\n",
            "Epoch 4/1000\n",
            "100/100 [==============================] - 1s 10ms/step - loss: 0.3531 - val_loss: 0.3175\n",
            "Epoch 5/1000\n",
            "100/100 [==============================] - 1s 9ms/step - loss: 0.3210 - val_loss: 0.2946\n",
            "Epoch 6/1000\n",
            "100/100 [==============================] - 1s 9ms/step - loss: 0.3160 - val_loss: 0.2884\n"
          ],
          "name": "stdout"
        }
      ]
    },
    {
      "cell_type": "code",
      "metadata": {
        "id": "oJ17dcdQOt_w",
        "outputId": "22e16b57-7337-40a8-c80b-ba3374e890dd",
        "colab": {
          "base_uri": "https://localhost:8080/",
          "height": 713
        }
      },
      "source": [
        "def mnist_viz(model):\n",
        "    ims, labels = next(iter(ds['test'].map(preprocess).batch(10)))\n",
        "    yhat = model(ims)\n",
        "    ypred = tf.argmax(yhat)\n",
        "\n",
        "    plt.figure(figsize=(10, 40))\n",
        "    for i in range(10):\n",
        "        plt.subplot(10, 2, 2*i+1)\n",
        "        plt.imshow(ims[i].numpy().squeeze(), cmap='bone')\n",
        "        plt.subplot(10, 2, 2*i+2)\n",
        "        plt.bar(np.arange(10), yhat[i].numpy())\n",
        "        plt.ylim([0, 1])\n",
        "        plt.show()\n",
        "\n",
        "# your code here\n",
        "mnist_viz(model)"
      ],
      "execution_count": null,
      "outputs": [
        {
          "output_type": "display_data",
          "data": {
            "image/png": "[encoded data removed]",
            "text/plain": [
              "<Figure size 720x2880 with 2 Axes>"
            ]
          },
          "metadata": {
            "tags": [],
            "needs_background": "light"
          }
        },
        {
          "output_type": "display_data",
          "data": {
            "image/png": "[encoded data removed]",
            "text/plain": [
              "<Figure size 432x288 with 2 Axes>"
            ]
          },
          "metadata": {
            "tags": [],
            "needs_background": "light"
          }
        },
        {
          "output_type": "display_data",
          "data": {
            "image/png": "[encoded data removed]",
            "text/plain": [
              "<Figure size 432x288 with 2 Axes>"
            ]
          },
          "metadata": {
            "tags": [],
            "needs_background": "light"
          }
        },
        {
          "output_type": "display_data",
          "data": {
            "image/png": "[encoded data removed]",
            "text/plain": [
              "<Figure size 432x288 with 2 Axes>"
            ]
          },
          "metadata": {
            "tags": [],
            "needs_background": "light"
          }
        },
        {
          "output_type": "display_data",
          "data": {
            "image/png": "[encoded data removed]",
            "text/plain": [
              "<Figure size 432x288 with 2 Axes>"
            ]
          },
          "metadata": {
            "tags": [],
            "needs_background": "light"
          }
        },
        {
          "output_type": "display_data",
          "data": {
            "image/png": "[encoded data removed]",
            "text/plain": [
              "<Figure size 432x288 with 2 Axes>"
            ]
          },
          "metadata": {
            "tags": [],
            "needs_background": "light"
          }
        },
        {
          "output_type": "display_data",
          "data": {
            "image/png": "[encoded data removed]",
            "text/plain": [
              "<Figure size 432x288 with 2 Axes>"
            ]
          },
          "metadata": {
            "tags": [],
            "needs_background": "light"
          }
        },
        {
          "output_type": "display_data",
          "data": {
            "image/png": "[encoded data removed]",
            "text/plain": [
              "<Figure size 432x288 with 2 Axes>"
            ]
          },
          "metadata": {
            "tags": [],
            "needs_background": "light"
          }
        },
        {
          "output_type": "display_data",
          "data": {
            "image/png": "[encoded data removed]",
            "text/plain": [
              "<Figure size 432x288 with 2 Axes>"
            ]
          },
          "metadata": {
            "tags": [],
            "needs_background": "light"
          }
        },
        {
          "output_type": "display_data",
          "data": {
            "image/png": "[encoded data removed]",
            "text/plain": [
              "<Figure size 432x288 with 2 Axes>"
            ]
          },
          "metadata": {
            "tags": [],
            "needs_background": "light"
          }
        }
      ]
    }
  ]
}